{
  "nbformat": 4,
  "nbformat_minor": 0,
  "metadata": {
    "colab": {
      "name": "Copy of tensor_tutorial.ipynb",
      "version": "0.3.2",
      "provenance": [],
      "collapsed_sections": [
        "2HaPEWNPrOjQ",
        "617GbPUhrOj0"
      ],
      "include_colab_link": true
    },
    "language_info": {
      "codemirror_mode": {
        "name": "ipython",
        "version": 3
      },
      "file_extension": ".py",
      "mimetype": "text/x-python",
      "name": "python",
      "nbconvert_exporter": "python",
      "pygments_lexer": "ipython3",
      "version": "3.6.6"
    },
    "kernelspec": {
      "display_name": "Python 3",
      "language": "python",
      "name": "python3"
    }
  },
  "cells": [
    {
      "cell_type": "markdown",
      "metadata": {
        "id": "view-in-github",
        "colab_type": "text"
      },
      "source": [
        "<a href=\"https://colab.research.google.com/github/Sikura/Awesome-pytorch-list/blob/master/Copy_of_tensor_tutorial.ipynb\" target=\"_parent\"><img src=\"https://colab.research.google.com/assets/colab-badge.svg\" alt=\"Open In Colab\"/></a>"
      ]
    },
    {
      "metadata": {
        "id": "CD_vQwmHrOhd",
        "colab_type": "code",
        "colab": {}
      },
      "cell_type": "code",
      "source": [
        "# this line is written to plot all plots just in Jupiter notebook\n",
        "%matplotlib inline"
      ],
      "execution_count": 0,
      "outputs": []
    },
    {
      "metadata": {
        "id": "ru2CYIlHrOhn",
        "colab_type": "text"
      },
      "cell_type": "markdown",
      "source": [
        "\n",
        "What is PyTorch?\n",
        "================\n",
        "\n",
        "It’s a Python-based scientific computing package targeted at two sets of\n",
        "audiences:\n",
        "\n",
        "-  A replacement for NumPy to use the power of GPUs\n",
        "-  a deep learning research platform that provides maximum flexibility\n",
        "   and speed\n",
        "\n",
        "Getting Started\n",
        "---------------\n",
        "\n",
        "Tensors\n",
        "^^^^^^^\n",
        "\n",
        "Tensors are similar to NumPy’s ndarrays, with the addition being that\n",
        "Tensors can also be used on a GPU to accelerate computing.\n",
        "\n"
      ]
    },
    {
      "metadata": {
        "id": "JROFtJcXrOhp",
        "colab_type": "code",
        "colab": {}
      },
      "cell_type": "code",
      "source": [
        "#A future statement is a directive to the compiler that a particular module should be compiled using syntax or semantics\n",
        "#that will be available in a specified future release of Python. The future statement is intended to ease migration to \n",
        "#future versions of Python that introduce incompatible changes to the language. \n",
        "#It allows use of the new features on a per-module basis before the release in which the feature becomes standard.\n",
        "from __future__ import print_function\n",
        "import torch"
      ],
      "execution_count": 0,
      "outputs": []
    },
    {
      "metadata": {
        "id": "HS7dTrHMrOht",
        "colab_type": "text"
      },
      "cell_type": "markdown",
      "source": [
        "Construct a 5x3 matrix, uninitialized:\n",
        "\n"
      ]
    },
    {
      "metadata": {
        "id": "PSSWqsc_rOhu",
        "colab_type": "code",
        "outputId": "bf4ea7b8-b595-4909-9f0e-8f11592b0513",
        "colab": {
          "base_uri": "https://localhost:8080/",
          "height": 98
        }
      },
      "cell_type": "code",
      "source": [
        "x = torch.empty(5, 3)\n",
        "print(x)"
      ],
      "execution_count": 0,
      "outputs": [
        {
          "output_type": "stream",
          "text": [
            "tensor([[1.2952e-36, 0.0000e+00, 0.0000e+00],\n",
            "        [0.0000e+00, 0.0000e+00, 0.0000e+00],\n",
            "        [0.0000e+00, 0.0000e+00, 0.0000e+00],\n",
            "        [0.0000e+00, 0.0000e+00, 0.0000e+00],\n",
            "        [0.0000e+00, 0.0000e+00, 0.0000e+00]])\n"
          ],
          "name": "stdout"
        }
      ]
    },
    {
      "metadata": {
        "id": "TdH-MvJ0yM6i",
        "colab_type": "code",
        "outputId": "9c364fd6-1032-4e1d-ae6e-4461308ee0f2",
        "colab": {
          "base_uri": "https://localhost:8080/",
          "height": 98
        }
      },
      "cell_type": "code",
      "source": [
        "# create 2d uninitialized tensor\n",
        "x = torch.empty(5,5)\n",
        "print(x)"
      ],
      "execution_count": 0,
      "outputs": [
        {
          "output_type": "stream",
          "text": [
            "tensor([[1.5469e-36, 0.0000e+00, 0.0000e+00, 0.0000e+00, 0.0000e+00],\n",
            "        [0.0000e+00, 0.0000e+00, 0.0000e+00, 0.0000e+00, 0.0000e+00],\n",
            "        [0.0000e+00, 0.0000e+00, 0.0000e+00, 0.0000e+00, 0.0000e+00],\n",
            "        [0.0000e+00, 0.0000e+00, 0.0000e+00, 0.0000e+00, 0.0000e+00],\n",
            "        [0.0000e+00, 0.0000e+00, 0.0000e+00, 0.0000e+00, 0.0000e+00]])\n"
          ],
          "name": "stdout"
        }
      ]
    },
    {
      "metadata": {
        "id": "QVeMxbnkrOhz",
        "colab_type": "text"
      },
      "cell_type": "markdown",
      "source": [
        "Construct a randomly initialized matrix:\n",
        "\n"
      ]
    },
    {
      "metadata": {
        "id": "0QUOlk_orOh0",
        "colab_type": "code",
        "outputId": "d7e80879-d779-43b0-a3cc-987f63d4213f",
        "colab": {
          "base_uri": "https://localhost:8080/",
          "height": 98
        }
      },
      "cell_type": "code",
      "source": [
        "x = torch.rand(5, 3)\n",
        "print(x)"
      ],
      "execution_count": 0,
      "outputs": [
        {
          "output_type": "stream",
          "text": [
            "tensor([[0.6759, 0.3508, 0.3688],\n",
            "        [0.9381, 0.1871, 0.1332],\n",
            "        [0.4403, 0.1149, 0.5960],\n",
            "        [0.6812, 0.5396, 0.8056],\n",
            "        [0.0883, 0.7883, 0.7852]])\n"
          ],
          "name": "stdout"
        }
      ]
    },
    {
      "metadata": {
        "id": "XbJsnVfFyugx",
        "colab_type": "code",
        "outputId": "3780b90c-8f7e-49f5-fd1f-5f60a040cc05",
        "colab": {
          "base_uri": "https://localhost:8080/",
          "height": 98
        }
      },
      "cell_type": "code",
      "source": [
        "# construct a randomly initialized matrix\n",
        "x= torch.rand(2,2,2)\n",
        "print(x)"
      ],
      "execution_count": 0,
      "outputs": [
        {
          "output_type": "stream",
          "text": [
            "tensor([[[0.6748, 0.8133],\n",
            "         [0.4185, 0.4098]],\n",
            "\n",
            "        [[0.5087, 0.1097],\n",
            "         [0.4183, 0.2354]]])\n"
          ],
          "name": "stdout"
        }
      ]
    },
    {
      "metadata": {
        "id": "54NjCP4grOh4",
        "colab_type": "text"
      },
      "cell_type": "markdown",
      "source": [
        "Construct a matrix filled zeros and of dtype long:\n",
        "\n"
      ]
    },
    {
      "metadata": {
        "id": "JmNUzPpArOh6",
        "colab_type": "code",
        "outputId": "707acf78-7388-42d6-b24c-c9ee31556c14",
        "colab": {
          "base_uri": "https://localhost:8080/",
          "height": 98
        }
      },
      "cell_type": "code",
      "source": [
        "x = torch.zeros(5, 3, dtype=torch.long)\n",
        "print(x)"
      ],
      "execution_count": 0,
      "outputs": [
        {
          "output_type": "stream",
          "text": [
            "tensor([[0, 0, 0],\n",
            "        [0, 0, 0],\n",
            "        [0, 0, 0],\n",
            "        [0, 0, 0],\n",
            "        [0, 0, 0]])\n"
          ],
          "name": "stdout"
        }
      ]
    },
    {
      "metadata": {
        "id": "cspIvPOQ4h5a",
        "colab_type": "code",
        "outputId": "d91c2db1-6783-4bd6-b6e5-ccafe8d218f2",
        "colab": {
          "base_uri": "https://localhost:8080/",
          "height": 50
        }
      },
      "cell_type": "code",
      "source": [
        "# create a 2d tensor filled with zeros\n",
        "x = torch.zeros(2, 2, dtype=torch.long)\n",
        "print(x)"
      ],
      "execution_count": 0,
      "outputs": [
        {
          "output_type": "stream",
          "text": [
            "tensor([[0, 0],\n",
            "        [0, 0]])\n"
          ],
          "name": "stdout"
        }
      ]
    },
    {
      "metadata": {
        "id": "jGZvJaK4rOh-",
        "colab_type": "text"
      },
      "cell_type": "markdown",
      "source": [
        "Construct a tensor directly from data:\n",
        "\n"
      ]
    },
    {
      "metadata": {
        "id": "Pw6VitArrOiA",
        "colab_type": "code",
        "outputId": "563c9388-ebbd-4709-9d10-4d3775ef33e8",
        "colab": {
          "base_uri": "https://localhost:8080/",
          "height": 33
        }
      },
      "cell_type": "code",
      "source": [
        "x = torch.tensor([5.5, 3])\n",
        "print(x)"
      ],
      "execution_count": 0,
      "outputs": [
        {
          "output_type": "stream",
          "text": [
            "tensor([5.5000, 3.0000])\n"
          ],
          "name": "stdout"
        }
      ]
    },
    {
      "metadata": {
        "id": "_6hSCWRN4yBu",
        "colab_type": "code",
        "outputId": "ae821443-4ae6-4555-c77f-a2509ec532b4",
        "colab": {
          "base_uri": "https://localhost:8080/",
          "height": 50
        }
      },
      "cell_type": "code",
      "source": [
        "# construct a tensor from a given data\n",
        "x = torch.tensor([[2,3],[4,4]])\n",
        "print(x)"
      ],
      "execution_count": 0,
      "outputs": [
        {
          "output_type": "stream",
          "text": [
            "tensor([[2, 3],\n",
            "        [4, 4]])\n"
          ],
          "name": "stdout"
        }
      ]
    },
    {
      "metadata": {
        "id": "W1fQ6vLZrOiE",
        "colab_type": "text"
      },
      "cell_type": "markdown",
      "source": [
        "or create a tensor based on an existing tensor. These methods\n",
        "will reuse properties of the input tensor, e.g. dtype, unless\n",
        "new values are provided by user\n",
        "\n"
      ]
    },
    {
      "metadata": {
        "id": "14S8l8KurOiG",
        "colab_type": "code",
        "outputId": "cdf6d7e3-128d-421e-976e-1239f346a132",
        "colab": {
          "base_uri": "https://localhost:8080/",
          "height": 180
        }
      },
      "cell_type": "code",
      "source": [
        "x = x.new_ones(5, 3, dtype=torch.double)      # new_* methods take in sizes\n",
        "print(x)\n",
        "\n",
        "x = torch.randn_like(x, dtype=torch.float)    # override dtype!\n",
        "print(x)                                      # result has the same size"
      ],
      "execution_count": 0,
      "outputs": [
        {
          "output_type": "stream",
          "text": [
            "tensor([[1., 1., 1.],\n",
            "        [1., 1., 1.],\n",
            "        [1., 1., 1.],\n",
            "        [1., 1., 1.],\n",
            "        [1., 1., 1.]], dtype=torch.float64)\n",
            "tensor([[ 0.1736,  0.9395,  1.1659],\n",
            "        [-0.2364, -0.5180,  0.1140],\n",
            "        [-1.3596, -0.3700, -1.2303],\n",
            "        [-0.2359, -0.1627, -0.5940],\n",
            "        [-0.9474,  1.1118, -0.5712]])\n"
          ],
          "name": "stdout"
        }
      ]
    },
    {
      "metadata": {
        "id": "tGanPTJB56a8",
        "colab_type": "code",
        "outputId": "439308f9-d8f3-4adc-8bd3-1e8dc81d341b",
        "colab": {
          "base_uri": "https://localhost:8080/",
          "height": 180
        }
      },
      "cell_type": "code",
      "source": [
        "# the following method fill the tensor with the value of 1\n",
        "x = x.new_ones(5,3, dtype= torch.double)\n",
        "print(x)\n",
        "\n",
        "x = torch.randn_like(x, dtype=torch.float)\n",
        "print(x)"
      ],
      "execution_count": 0,
      "outputs": [
        {
          "output_type": "stream",
          "text": [
            "tensor([[1., 1., 1.],\n",
            "        [1., 1., 1.],\n",
            "        [1., 1., 1.],\n",
            "        [1., 1., 1.],\n",
            "        [1., 1., 1.]], dtype=torch.float64)\n",
            "tensor([[ 0.3492,  1.5093, -1.7783],\n",
            "        [-1.2693, -0.6325, -0.4237],\n",
            "        [ 0.1727, -0.1796,  0.3100],\n",
            "        [ 2.0566, -0.7383, -0.3705],\n",
            "        [-0.3776,  0.4071,  1.3400]])\n"
          ],
          "name": "stdout"
        }
      ]
    },
    {
      "metadata": {
        "id": "IeDtnM21rOiK",
        "colab_type": "text"
      },
      "cell_type": "markdown",
      "source": [
        "Get its size:\n",
        "\n"
      ]
    },
    {
      "metadata": {
        "id": "Mm5EKhFjrOiN",
        "colab_type": "code",
        "outputId": "3f0e8529-26dd-41e4-a9a5-d063bbb925aa",
        "colab": {
          "base_uri": "https://localhost:8080/",
          "height": 33
        }
      },
      "cell_type": "code",
      "source": [
        "print(x.size())"
      ],
      "execution_count": 0,
      "outputs": [
        {
          "output_type": "stream",
          "text": [
            "torch.Size([5, 3])\n"
          ],
          "name": "stdout"
        }
      ]
    },
    {
      "metadata": {
        "id": "yDoLzvvj64YL",
        "colab_type": "code",
        "outputId": "7dae1beb-db5b-434b-b722-78239bf3493d",
        "colab": {
          "base_uri": "https://localhost:8080/",
          "height": 33
        }
      },
      "cell_type": "code",
      "source": [
        "print(x.size())"
      ],
      "execution_count": 0,
      "outputs": [
        {
          "output_type": "stream",
          "text": [
            "torch.Size([5, 3])\n"
          ],
          "name": "stdout"
        }
      ]
    },
    {
      "metadata": {
        "id": "rGOvhxnbrOiT",
        "colab_type": "text"
      },
      "cell_type": "markdown",
      "source": [
        "<div class=\"alert alert-info\"><h4>Note</h4><p>``torch.Size`` is in fact a tuple, so it supports all tuple operations.</p></div>\n",
        "\n",
        "Operations\n",
        "^^^^^^^^^^\n",
        "There are multiple syntaxes for operations. In the following\n",
        "example, we will take a look at the addition operation.\n",
        "\n",
        "Addition: syntax 1\n",
        "\n"
      ]
    },
    {
      "metadata": {
        "id": "GzQTwkw4rOiW",
        "colab_type": "code",
        "outputId": "e512c9c7-3698-4871-d688-681867504d1e",
        "colab": {
          "base_uri": "https://localhost:8080/",
          "height": 98
        }
      },
      "cell_type": "code",
      "source": [
        "y = torch.rand(5, 3)\n",
        "print(x + y)"
      ],
      "execution_count": 0,
      "outputs": [
        {
          "output_type": "stream",
          "text": [
            "tensor([[ 1.2114,  1.5641, -1.5340],\n",
            "        [-0.9156, -0.1592,  0.5311],\n",
            "        [ 0.9303,  0.3389,  0.4644],\n",
            "        [ 2.4402, -0.5752, -0.1967],\n",
            "        [-0.3636,  0.5099,  1.8254]])\n"
          ],
          "name": "stdout"
        }
      ]
    },
    {
      "metadata": {
        "id": "NPXfTNp5KqaH",
        "colab_type": "code",
        "outputId": "8ca8f1f5-f3b4-4bc8-88a8-5b9dee30552b",
        "colab": {
          "base_uri": "https://localhost:8080/",
          "height": 261
        }
      },
      "cell_type": "code",
      "source": [
        "x = torch.rand(5,5)\n",
        "print(x)\n",
        "y = torch.rand(5,5)\n",
        "print(y)\n",
        "print(x+y)"
      ],
      "execution_count": 0,
      "outputs": [
        {
          "output_type": "stream",
          "text": [
            "tensor([[0.4306, 0.2418, 0.8207, 0.7851, 0.3018],\n",
            "        [0.5274, 0.9280, 0.3378, 0.3264, 0.6365],\n",
            "        [0.9369, 0.0282, 0.6349, 0.4914, 0.6132],\n",
            "        [0.6907, 0.6588, 0.6162, 0.1098, 0.2552],\n",
            "        [0.7633, 0.0600, 0.9877, 0.3414, 0.1110]])\n",
            "tensor([[0.3876, 0.3393, 0.2412, 0.8692, 0.8347],\n",
            "        [0.9575, 0.1948, 0.6807, 0.5115, 0.6021],\n",
            "        [0.8719, 0.8715, 0.2870, 0.7275, 0.4051],\n",
            "        [0.3915, 0.9951, 0.7802, 0.6611, 0.3752],\n",
            "        [0.4921, 0.0543, 0.4487, 0.7122, 0.2122]])\n",
            "tensor([[0.8182, 0.5811, 1.0620, 1.6543, 1.1365],\n",
            "        [1.4849, 1.1228, 1.0186, 0.8379, 1.2386],\n",
            "        [1.8088, 0.8997, 0.9220, 1.2188, 1.0183],\n",
            "        [1.0823, 1.6539, 1.3964, 0.7709, 0.6304],\n",
            "        [1.2554, 0.1143, 1.4364, 1.0535, 0.3231]])\n"
          ],
          "name": "stdout"
        }
      ]
    },
    {
      "metadata": {
        "id": "_YP7TClGrOib",
        "colab_type": "text"
      },
      "cell_type": "markdown",
      "source": [
        "Addition: syntax 2\n",
        "\n"
      ]
    },
    {
      "metadata": {
        "id": "00-jA29urOid",
        "colab_type": "code",
        "outputId": "3147b01e-209c-4faa-9822-4a3b6b53afb3",
        "colab": {
          "base_uri": "https://localhost:8080/",
          "height": 98
        }
      },
      "cell_type": "code",
      "source": [
        "print(torch.add(x, y))"
      ],
      "execution_count": 0,
      "outputs": [
        {
          "output_type": "stream",
          "text": [
            "tensor([[0.8182, 0.5811, 1.0620, 1.6543, 1.1365],\n",
            "        [1.4849, 1.1228, 1.0186, 0.8379, 1.2386],\n",
            "        [1.8088, 0.8997, 0.9220, 1.2188, 1.0183],\n",
            "        [1.0823, 1.6539, 1.3964, 0.7709, 0.6304],\n",
            "        [1.2554, 0.1143, 1.4364, 1.0535, 0.3231]])\n"
          ],
          "name": "stdout"
        }
      ]
    },
    {
      "metadata": {
        "id": "oaxk6Wv_ZqAL",
        "colab_type": "code",
        "outputId": "a96c4a7a-1c82-423e-c4e6-c2da78473fcd",
        "colab": {
          "base_uri": "https://localhost:8080/",
          "height": 98
        }
      },
      "cell_type": "code",
      "source": [
        "print(torch.add(x,y))"
      ],
      "execution_count": 0,
      "outputs": [
        {
          "output_type": "stream",
          "text": [
            "tensor([[0.8182, 0.5811, 1.0620, 1.6543, 1.1365],\n",
            "        [1.4849, 1.1228, 1.0186, 0.8379, 1.2386],\n",
            "        [1.8088, 0.8997, 0.9220, 1.2188, 1.0183],\n",
            "        [1.0823, 1.6539, 1.3964, 0.7709, 0.6304],\n",
            "        [1.2554, 0.1143, 1.4364, 1.0535, 0.3231]])\n"
          ],
          "name": "stdout"
        }
      ]
    },
    {
      "metadata": {
        "id": "9FZEL2v3rOij",
        "colab_type": "text"
      },
      "cell_type": "markdown",
      "source": [
        "Addition: providing an output tensor as argument\n",
        "\n"
      ]
    },
    {
      "metadata": {
        "id": "SFkrAaq4rOil",
        "colab_type": "code",
        "outputId": "7c1a7c31-560d-4547-f377-817cc662d5dc",
        "colab": {
          "base_uri": "https://localhost:8080/",
          "height": 98
        }
      },
      "cell_type": "code",
      "source": [
        "result = torch.empty(5, 3)\n",
        "torch.add(x, y, out=result)\n",
        "print(result)"
      ],
      "execution_count": 0,
      "outputs": [
        {
          "output_type": "stream",
          "text": [
            "tensor([[0.8182, 0.5811, 1.0620, 1.6543, 1.1365],\n",
            "        [1.4849, 1.1228, 1.0186, 0.8379, 1.2386],\n",
            "        [1.8088, 0.8997, 0.9220, 1.2188, 1.0183],\n",
            "        [1.0823, 1.6539, 1.3964, 0.7709, 0.6304],\n",
            "        [1.2554, 0.1143, 1.4364, 1.0535, 0.3231]])\n"
          ],
          "name": "stdout"
        }
      ]
    },
    {
      "metadata": {
        "id": "zRTVVTR3Zyaa",
        "colab_type": "code",
        "outputId": "131e7f87-39cb-43d7-97d6-767d8be883d0",
        "colab": {
          "base_uri": "https://localhost:8080/",
          "height": 98
        }
      },
      "cell_type": "code",
      "source": [
        "result = torch.empty(3,3)\n",
        "torch.add(x,y, out=result)\n",
        "print(result)"
      ],
      "execution_count": 0,
      "outputs": [
        {
          "output_type": "stream",
          "text": [
            "tensor([[0.8182, 0.5811, 1.0620, 1.6543, 1.1365],\n",
            "        [1.4849, 1.1228, 1.0186, 0.8379, 1.2386],\n",
            "        [1.8088, 0.8997, 0.9220, 1.2188, 1.0183],\n",
            "        [1.0823, 1.6539, 1.3964, 0.7709, 0.6304],\n",
            "        [1.2554, 0.1143, 1.4364, 1.0535, 0.3231]])\n"
          ],
          "name": "stdout"
        }
      ]
    },
    {
      "metadata": {
        "id": "2qe6z1bPrOiq",
        "colab_type": "text"
      },
      "cell_type": "markdown",
      "source": [
        "Addition: in-place\n",
        "\n"
      ]
    },
    {
      "metadata": {
        "id": "UmdoFOmsrOis",
        "colab_type": "code",
        "outputId": "82445d50-d8b4-4442-eabe-e2598662ac23",
        "colab": {
          "base_uri": "https://localhost:8080/",
          "height": 98
        }
      },
      "cell_type": "code",
      "source": [
        "# adds x to y\n",
        "y.add_(x)\n",
        "print(y)"
      ],
      "execution_count": 0,
      "outputs": [
        {
          "output_type": "stream",
          "text": [
            "tensor([[0.8182, 0.5811, 1.0620, 1.6543, 1.1365],\n",
            "        [1.4849, 1.1228, 1.0186, 0.8379, 1.2386],\n",
            "        [1.8088, 0.8997, 0.9220, 1.2188, 1.0183],\n",
            "        [1.0823, 1.6539, 1.3964, 0.7709, 0.6304],\n",
            "        [1.2554, 0.1143, 1.4364, 1.0535, 0.3231]])\n"
          ],
          "name": "stdout"
        }
      ]
    },
    {
      "metadata": {
        "id": "ieszc-XsaKpr",
        "colab_type": "code",
        "outputId": "0552d976-0685-4d31-d90d-84df0796ccea",
        "colab": {
          "base_uri": "https://localhost:8080/",
          "height": 98
        }
      },
      "cell_type": "code",
      "source": [
        "y.add_(x)\n",
        "print(y)"
      ],
      "execution_count": 0,
      "outputs": [
        {
          "output_type": "stream",
          "text": [
            "tensor([[1.6793, 1.0646, 2.7034, 3.2244, 1.7401],\n",
            "        [2.5397, 2.9788, 1.6942, 1.4908, 2.5116],\n",
            "        [3.6826, 0.9560, 2.1919, 2.2016, 2.2447],\n",
            "        [2.4638, 2.9714, 2.6287, 0.9905, 1.1407],\n",
            "        [2.7819, 0.2343, 3.4118, 1.7362, 0.5451]])\n"
          ],
          "name": "stdout"
        }
      ]
    },
    {
      "metadata": {
        "id": "hpDlzGr4rOix",
        "colab_type": "text"
      },
      "cell_type": "markdown",
      "source": [
        "<div class=\"alert alert-info\"><h4>Note</h4><p>Any operation that mutates a tensor in-place is post-fixed with an ``_``.\n",
        "    For example: ``x.copy_(y)``, ``x.t_()``, will change ``x``.</p></div>\n",
        "\n",
        "You can use standard NumPy-like indexing with all bells and whistles!\n",
        "\n"
      ]
    },
    {
      "metadata": {
        "id": "Aw8j6C_CrOiz",
        "colab_type": "code",
        "outputId": "d86d32f9-3635-4e7e-bc64-0807371a3230",
        "colab": {
          "base_uri": "https://localhost:8080/",
          "height": 33
        }
      },
      "cell_type": "code",
      "source": [
        "print(x[:, 1])"
      ],
      "execution_count": 0,
      "outputs": [
        {
          "output_type": "stream",
          "text": [
            "tensor([0.2418, 0.9280, 0.0282, 0.6588, 0.0600])\n"
          ],
          "name": "stdout"
        }
      ]
    },
    {
      "metadata": {
        "id": "VH2b020KaW-s",
        "colab_type": "code",
        "outputId": "d060fc55-b07a-4a7b-9a41-73629c18f56b",
        "colab": {
          "base_uri": "https://localhost:8080/",
          "height": 33
        }
      },
      "cell_type": "code",
      "source": [
        "print(y[:,1])"
      ],
      "execution_count": 0,
      "outputs": [
        {
          "output_type": "stream",
          "text": [
            "tensor([1.0646, 2.9788, 0.9560, 2.9714, 0.2343])\n"
          ],
          "name": "stdout"
        }
      ]
    },
    {
      "metadata": {
        "id": "DpaFW2V4rOi4",
        "colab_type": "text"
      },
      "cell_type": "markdown",
      "source": [
        "Resizing: If you want to resize/reshape tensor, you can use ``torch.view``:\n",
        "\n"
      ]
    },
    {
      "metadata": {
        "id": "G4vaOvQerOi6",
        "colab_type": "code",
        "outputId": "61b6c3bd-352c-4f3a-efee-8785e8509f1f",
        "colab": {
          "base_uri": "https://localhost:8080/",
          "height": 33
        }
      },
      "cell_type": "code",
      "source": [
        "x = torch.randn(4, 4)\n",
        "y = x.view(16)\n",
        "z = x.view(-1, 8)  # the size -1 is inferred from other dimensions\n",
        "print(x.size(), y.size(), z.size())"
      ],
      "execution_count": 0,
      "outputs": [
        {
          "output_type": "stream",
          "text": [
            "torch.Size([4, 4]) torch.Size([16]) torch.Size([2, 8])\n"
          ],
          "name": "stdout"
        }
      ]
    },
    {
      "metadata": {
        "id": "Ym1lzznlaixF",
        "colab_type": "code",
        "outputId": "ea78b324-fbd2-43ed-87e9-7dc0dbd2ba81",
        "colab": {
          "base_uri": "https://localhost:8080/",
          "height": 147
        }
      },
      "cell_type": "code",
      "source": [
        "#torch view to resize and reshape tensor\n",
        "\n",
        "z = torch.randn(4,4)\n",
        "print(z)\n",
        "y = z.view(16)\n",
        "print(y)\n",
        "x = z.view(-1, 8)\n",
        "print(x)"
      ],
      "execution_count": 0,
      "outputs": [
        {
          "output_type": "stream",
          "text": [
            "tensor([[ 1.2071,  0.0760,  1.0486, -0.1286],\n",
            "        [-1.3248,  0.4072, -1.7416,  0.3402],\n",
            "        [-0.8678,  0.4277, -0.1944,  1.2515],\n",
            "        [-0.2266,  0.4011,  0.7426,  0.0209]])\n",
            "tensor([ 1.2071,  0.0760,  1.0486, -0.1286, -1.3248,  0.4072, -1.7416,  0.3402,\n",
            "        -0.8678,  0.4277, -0.1944,  1.2515, -0.2266,  0.4011,  0.7426,  0.0209])\n",
            "tensor([[ 1.2071,  0.0760,  1.0486, -0.1286, -1.3248,  0.4072, -1.7416,  0.3402],\n",
            "        [-0.8678,  0.4277, -0.1944,  1.2515, -0.2266,  0.4011,  0.7426,  0.0209]])\n"
          ],
          "name": "stdout"
        }
      ]
    },
    {
      "metadata": {
        "id": "VQOmkjMHrOjC",
        "colab_type": "text"
      },
      "cell_type": "markdown",
      "source": [
        "If you have a one element tensor, use ``.item()`` to get the value as a\n",
        "Python number\n",
        "\n"
      ]
    },
    {
      "metadata": {
        "id": "TM51FxaqrOjF",
        "colab_type": "code",
        "outputId": "4f87fd9d-f77a-44f2-9024-8506ae4c17ff",
        "colab": {
          "base_uri": "https://localhost:8080/",
          "height": 50
        }
      },
      "cell_type": "code",
      "source": [
        "x = torch.randn(1)\n",
        "print(x)\n",
        "print(x.item())"
      ],
      "execution_count": 0,
      "outputs": [
        {
          "output_type": "stream",
          "text": [
            "tensor([1.1788])\n",
            "1.1787798404693604\n"
          ],
          "name": "stdout"
        }
      ]
    },
    {
      "metadata": {
        "id": "nozPHY4SdPjY",
        "colab_type": "code",
        "outputId": "1cf24bcd-314c-4e3d-e875-0218dc3d45a0",
        "colab": {
          "base_uri": "https://localhost:8080/",
          "height": 50
        }
      },
      "cell_type": "code",
      "source": [
        "x = torch.randn(1)\n",
        "print(x)\n",
        "print(x.item())"
      ],
      "execution_count": 0,
      "outputs": [
        {
          "output_type": "stream",
          "text": [
            "tensor([-0.9227])\n",
            "-0.9227104187011719\n"
          ],
          "name": "stdout"
        }
      ]
    },
    {
      "metadata": {
        "id": "2HaPEWNPrOjQ",
        "colab_type": "text"
      },
      "cell_type": "markdown",
      "source": [
        "**Read later:**\n",
        "\n",
        "\n",
        "  100+ Tensor operations, including transposing, indexing, slicing,\n",
        "  mathematical operations, linear algebra, random numbers, etc.,\n",
        "  are described\n",
        "  `here <http://pytorch.org/docs/torch>`_.\n",
        "\n",
        "NumPy Bridge\n",
        "------------\n",
        "\n",
        "Converting a Torch Tensor to a NumPy array and vice versa is a breeze.\n",
        "\n",
        "The Torch Tensor and NumPy array will share their underlying memory\n",
        "locations, and changing one will change the other.\n",
        "\n",
        "Converting a Torch Tensor to a NumPy Array\n",
        "^^^^^^^^^^^^^^^^^^^^^^^^^^^^^^^^^^^^^^^^^^\n",
        "\n"
      ]
    },
    {
      "metadata": {
        "id": "RwFRbrJrrOjU",
        "colab_type": "code",
        "outputId": "698dc898-77a8-4492-badf-ebbc3219956f",
        "colab": {
          "base_uri": "https://localhost:8080/",
          "height": 33
        }
      },
      "cell_type": "code",
      "source": [
        "a = torch.ones(5)\n",
        "print(a)"
      ],
      "execution_count": 0,
      "outputs": [
        {
          "output_type": "stream",
          "text": [
            "tensor([1., 1., 1., 1., 1.])\n"
          ],
          "name": "stdout"
        }
      ]
    },
    {
      "metadata": {
        "id": "j0NWpAq5dodx",
        "colab_type": "code",
        "outputId": "0dee6c67-cb22-4736-a55d-7dbfce196a9d",
        "colab": {
          "base_uri": "https://localhost:8080/",
          "height": 98
        }
      },
      "cell_type": "code",
      "source": [
        "a1 = torch.ones(5,5)\n",
        "print(a1)"
      ],
      "execution_count": 0,
      "outputs": [
        {
          "output_type": "stream",
          "text": [
            "tensor([[1., 1., 1., 1., 1.],\n",
            "        [1., 1., 1., 1., 1.],\n",
            "        [1., 1., 1., 1., 1.],\n",
            "        [1., 1., 1., 1., 1.],\n",
            "        [1., 1., 1., 1., 1.]])\n"
          ],
          "name": "stdout"
        }
      ]
    },
    {
      "metadata": {
        "id": "Bs-mNsJhrOjc",
        "colab_type": "code",
        "outputId": "4805160f-f557-4607-fa52-6b9bc888ff34",
        "colab": {
          "base_uri": "https://localhost:8080/",
          "height": 33
        }
      },
      "cell_type": "code",
      "source": [
        "b = a.numpy()\n",
        "print(b)"
      ],
      "execution_count": 0,
      "outputs": [
        {
          "output_type": "stream",
          "text": [
            "[1. 1. 1. 1. 1.]\n"
          ],
          "name": "stdout"
        }
      ]
    },
    {
      "metadata": {
        "id": "XCoPnWr-dxRC",
        "colab_type": "code",
        "outputId": "d240f5c6-60ca-4031-ed17-ce1c26a86014",
        "colab": {
          "base_uri": "https://localhost:8080/",
          "height": 98
        }
      },
      "cell_type": "code",
      "source": [
        "print(a1.numpy())"
      ],
      "execution_count": 0,
      "outputs": [
        {
          "output_type": "stream",
          "text": [
            "[[1. 1. 1. 1. 1.]\n",
            " [1. 1. 1. 1. 1.]\n",
            " [1. 1. 1. 1. 1.]\n",
            " [1. 1. 1. 1. 1.]\n",
            " [1. 1. 1. 1. 1.]]\n"
          ],
          "name": "stdout"
        }
      ]
    },
    {
      "metadata": {
        "id": "gVusxsnzrOjj",
        "colab_type": "text"
      },
      "cell_type": "markdown",
      "source": [
        "See how the numpy array changed in value.\n",
        "\n"
      ]
    },
    {
      "metadata": {
        "id": "HShi7b2drOjm",
        "colab_type": "code",
        "outputId": "848aa08d-3b66-4b91-cd25-88336d9fedbf",
        "colab": {
          "base_uri": "https://localhost:8080/",
          "height": 50
        }
      },
      "cell_type": "code",
      "source": [
        "a.add_(1)\n",
        "print(a)\n",
        "print(b)"
      ],
      "execution_count": 0,
      "outputs": [
        {
          "output_type": "stream",
          "text": [
            "tensor([3., 3., 3., 3., 3.])\n",
            "[3. 3. 3. 3. 3.]\n"
          ],
          "name": "stdout"
        }
      ]
    },
    {
      "metadata": {
        "id": "9RfjOHLYd7KN",
        "colab_type": "code",
        "outputId": "507dc384-c379-4c1f-9162-c939234cf3b2",
        "colab": {
          "base_uri": "https://localhost:8080/",
          "height": 342
        }
      },
      "cell_type": "code",
      "source": [
        "# making operations with a tensor also reflects on numpy array that was created from this tensor\n",
        "b1 = a1.numpy()\n",
        "print(b1)\n",
        "print(a1)\n",
        "a1.add_(1)\n",
        "print(a1)\n",
        "print(b1)"
      ],
      "execution_count": 0,
      "outputs": [
        {
          "output_type": "stream",
          "text": [
            "[[1. 1. 1. 1. 1.]\n",
            " [1. 1. 1. 1. 1.]\n",
            " [1. 1. 1. 1. 1.]\n",
            " [1. 1. 1. 1. 1.]\n",
            " [1. 1. 1. 1. 1.]]\n",
            "tensor([[1., 1., 1., 1., 1.],\n",
            "        [1., 1., 1., 1., 1.],\n",
            "        [1., 1., 1., 1., 1.],\n",
            "        [1., 1., 1., 1., 1.],\n",
            "        [1., 1., 1., 1., 1.]])\n",
            "tensor([[2., 2., 2., 2., 2.],\n",
            "        [2., 2., 2., 2., 2.],\n",
            "        [2., 2., 2., 2., 2.],\n",
            "        [2., 2., 2., 2., 2.],\n",
            "        [2., 2., 2., 2., 2.]])\n",
            "[[2. 2. 2. 2. 2.]\n",
            " [2. 2. 2. 2. 2.]\n",
            " [2. 2. 2. 2. 2.]\n",
            " [2. 2. 2. 2. 2.]\n",
            " [2. 2. 2. 2. 2.]]\n"
          ],
          "name": "stdout"
        }
      ]
    },
    {
      "metadata": {
        "id": "yMdXoKKarOjq",
        "colab_type": "text"
      },
      "cell_type": "markdown",
      "source": [
        "Converting NumPy Array to Torch Tensor\n",
        "^^^^^^^^^^^^^^^^^^^^^^^^^^^^^^^^^^^^^^\n",
        "See how changing the np array changed the Torch Tensor automatically\n",
        "\n"
      ]
    },
    {
      "metadata": {
        "id": "bECej6hVrOjx",
        "colab_type": "code",
        "outputId": "050aa2b7-460c-4b4f-874e-dbfa5d0ffd12",
        "colab": {
          "base_uri": "https://localhost:8080/",
          "height": 50
        }
      },
      "cell_type": "code",
      "source": [
        "import numpy as np\n",
        "a = np.ones(5)\n",
        "b = torch.from_numpy(a)\n",
        "np.add(a, 1, out=a)\n",
        "print(a)\n",
        "print(b)"
      ],
      "execution_count": 0,
      "outputs": [
        {
          "output_type": "stream",
          "text": [
            "[2. 2. 2. 2. 2.]\n",
            "tensor([2., 2., 2., 2., 2.], dtype=torch.float64)\n"
          ],
          "name": "stdout"
        }
      ]
    },
    {
      "metadata": {
        "id": "HNlBPp1DexGo",
        "colab_type": "code",
        "outputId": "25c92b88-204e-44a5-a1ca-cb1cbeaef390",
        "colab": {
          "base_uri": "https://localhost:8080/",
          "height": 66
        }
      },
      "cell_type": "code",
      "source": [
        "import numpy as np\n",
        "a  = np.ones(4)\n",
        "print(a)\n",
        "b = torch.from_numpy(a)\n",
        "np.add(a, 1, out=a)\n",
        "print(a)\n",
        "print(b)"
      ],
      "execution_count": 0,
      "outputs": [
        {
          "output_type": "stream",
          "text": [
            "[1. 1. 1. 1.]\n",
            "[2. 2. 2. 2.]\n",
            "tensor([2., 2., 2., 2.], dtype=torch.float64)\n"
          ],
          "name": "stdout"
        }
      ]
    },
    {
      "metadata": {
        "id": "617GbPUhrOj0",
        "colab_type": "text"
      },
      "cell_type": "markdown",
      "source": [
        "All the Tensors on the CPU except a CharTensor support converting to\n",
        "NumPy and back.\n",
        "\n",
        "CUDA Tensors\n",
        "------------\n",
        "\n",
        "Tensors can be moved onto any device using the ``.to`` method.\n",
        "\n"
      ]
    },
    {
      "metadata": {
        "id": "VfoATydnrOj2",
        "colab_type": "code",
        "colab": {}
      },
      "cell_type": "code",
      "source": [
        "# let us run this cell only if CUDA is available\n",
        "# We will use ``torch.device`` objects to move tensors in and out of GPU\n",
        "if torch.cuda.is_available():\n",
        "    device = torch.device(\"cuda\")          # a CUDA device object\n",
        "    y = torch.ones_like(x, device=device)  # directly create a tensor on GPU\n",
        "    x = x.to(device)                       # or just use strings ``.to(\"cuda\")``\n",
        "    z = x + y\n",
        "    print(z)\n",
        "    print(z.to(\"cpu\", torch.double))       # ``.to`` can also change dtype together!"
      ],
      "execution_count": 0,
      "outputs": []
    },
    {
      "metadata": {
        "id": "L-gHDHfzmF6M",
        "colab_type": "code",
        "colab": {}
      },
      "cell_type": "code",
      "source": [
        ""
      ],
      "execution_count": 0,
      "outputs": []
    },
    {
      "metadata": {
        "id": "QKCdZvZGl_EF",
        "colab_type": "code",
        "outputId": "2756433e-cc1e-4878-c6f5-f6ecb4ea3ee0",
        "colab": {
          "base_uri": "https://localhost:8080/",
          "height": 82
        }
      },
      "cell_type": "code",
      "source": [
        "print(z)"
      ],
      "execution_count": 0,
      "outputs": [
        {
          "output_type": "stream",
          "text": [
            "tensor([[ 1.2071,  0.0760,  1.0486, -0.1286],\n",
            "        [-1.3248,  0.4072, -1.7416,  0.3402],\n",
            "        [-0.8678,  0.4277, -0.1944,  1.2515],\n",
            "        [-0.2266,  0.4011,  0.7426,  0.0209]])\n"
          ],
          "name": "stdout"
        }
      ]
    }
  ]
}